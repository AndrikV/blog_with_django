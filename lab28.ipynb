{
 "cells": [
  {
   "cell_type": "markdown",
   "metadata": {},
   "source": [
    "# Django pt.4"
   ]
  },
  {
   "cell_type": "markdown",
   "metadata": {},
   "source": [
    "Implement the code from lecture"
   ]
  },
  {
   "cell_type": "markdown",
   "metadata": {},
   "source": [
    "## Build a Portfolio App\n",
    "Build the portfolio app from the [tutorial](https://realpython.com/get-started-with-django-1/)."
   ]
  },
  {
   "cell_type": "markdown",
   "metadata": {},
   "source": [
    "## Blog\n",
    "Taking the db structure from lab 17 (Blog), create the django application that will implement the basic blog functionality. \n",
    "\n",
    "You need to use:\n",
    "- different django apps (at least 3). **Note:** each app is a directory created by `python manage.py startapp <name>` command\n",
    "- create models that will implement your schema\n",
    "- create django views (create at least one function based view, [class based view](https://docs.djangoproject.com/en/4.0/topics/class-based-views/intro/), [generic view](https://docs.djangoproject.com/en/4.0/topics/class-based-views/generic-display/))\n",
    "- add django forms\n",
    "- add django templates (use template hierarchy like in the Portfolio app, add `base.html` and extend it by subclasses)\n",
    "- add some tests to your django project. [pytest-django](https://pytest-django.readthedocs.io/en/latest/) may be a good choice\n",
    "\n",
    "Bonus tasks:\n",
    "- use bootstrap\n",
    "- add template [filters and tags](https://docs.djangoproject.com/en/4.0/ref/templates/builtins/)\n",
    "- [cutomize django admin](https://docs.djangoproject.com/en/4.0/ref/contrib/admin/) to depict models clearer\n",
    "- add [django logger](https://docs.djangoproject.com/en/4.0/topics/logging/)\n",
    "- add [manager](https://docs.djangoproject.com/en/4.0/topics/db/managers/) to your models\n",
    "- add [caching](https://docs.djangoproject.com/en/4.0/topics/cache/) to your project"
   ]
  },
  {
   "cell_type": "markdown",
   "metadata": {},
   "source": []
  }
 ],
 "metadata": {
  "kernelspec": {
   "display_name": "Python 3.9.7 64-bit",
   "language": "python",
   "name": "python3"
  },
  "language_info": {
   "name": "python",
   "version": "3.9.7"
  },
  "orig_nbformat": 4,
  "vscode": {
   "interpreter": {
    "hash": "097b0207ce4cd497532c6ae435866367fdfc2c4f3813d1763f5ed7ece9008da9"
   }
  }
 },
 "nbformat": 4,
 "nbformat_minor": 2
}
